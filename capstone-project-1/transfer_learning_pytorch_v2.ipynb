{
  "nbformat": 4,
  "nbformat_minor": 0,
  "metadata": {
    "colab": {
      "name": "transfer-learning-pytorch-v2.ipynb",
      "provenance": [],
      "include_colab_link": true
    },
    "kernelspec": {
      "name": "python3",
      "display_name": "Python 3"
    },
    "language_info": {
      "name": "python"
    }
  },
  "cells": [
    {
      "cell_type": "markdown",
      "metadata": {
        "id": "view-in-github",
        "colab_type": "text"
      },
      "source": [
        "<a href=\"https://colab.research.google.com/github/callezenwaka/facebook-pytorch/blob/main/capstone-project-1/transfer_learning_pytorch_v2.ipynb\" target=\"_parent\"><img src=\"https://colab.research.google.com/assets/colab-badge.svg\" alt=\"Open In Colab\"/></a>"
      ]
    },
    {
      "cell_type": "markdown",
      "metadata": {
        "id": "I7nXjnx4Dv_3"
      },
      "source": [
        "# Project setup"
      ]
    },
    {
      "cell_type": "code",
      "metadata": {
        "id": "I3sQ1rb1BdvA"
      },
      "source": [
        "import torch\n",
        "import torch.nn as nn\n",
        "import torch.optim as optim\n",
        "from torch.optim import lr_scheduler\n",
        "import numpy as np\n",
        "import torchvision\n",
        "from torchvision import datasets, models, transforms\n",
        "import matplotlib.pyplot as plt\n",
        "import time\n",
        "import os\n",
        "import copy"
      ],
      "execution_count": null,
      "outputs": []
    },
    {
      "cell_type": "code",
      "metadata": {
        "id": "IXLszrWXDncc"
      },
      "source": [
        "# define mean and std\n",
        "mean = np.array([0.5, 0.5, 0.5])\n",
        "std = np.array([0.25, 0.25, 0.25])"
      ],
      "execution_count": null,
      "outputs": []
    },
    {
      "cell_type": "code",
      "metadata": {
        "id": "ualLTGmfDAd5"
      },
      "source": [
        "# download dataset\n",
        "!wget https://github.com/callezenwaka/facebook-pytorch/blob/main/capstone-project-1/data.zip?raw=true && unzip -qq data.zip?raw=true\n",
        "!rm -rf data.zip?raw=true"
      ],
      "execution_count": null,
      "outputs": []
    },
    {
      "cell_type": "markdown",
      "metadata": {
        "id": "sSqskyLaDfO9"
      },
      "source": [
        "# Data Transformations"
      ]
    },
    {
      "cell_type": "code",
      "metadata": {
        "id": "9kix_qqeDAak"
      },
      "source": [
        "# define training and test data directories\n",
        "data_dir = 'data/'\n",
        "train_dir = os.path.join(data_dir, 'train/')\n",
        "test_dir = os.path.join(data_dir, 'val/')"
      ],
      "execution_count": null,
      "outputs": []
    },
    {
      "cell_type": "code",
      "metadata": {
        "id": "m-IRDOdbDAXq"
      },
      "source": [
        "# load and transform data using ImageFolder\n",
        "\n",
        "# resize all images\n",
        "train_transform = transforms.Compose([transforms.RandomResizedCrop(224),\n",
        "                                      transforms.RandomHorizontalFlip(),\n",
        "                                      transforms.ToTensor(),\n",
        "                                      transforms.Normalize(mean, std)\n",
        "                                      ])\n",
        "train_data = datasets.ImageFolder(train_dir, transform=train_transform)\n",
        "\n",
        "\n",
        "test_transform = transforms.Compose([transforms.Resize(256),\n",
        "                                     transforms.CenterCrop(224),\n",
        "                                     transforms.ToTensor(),\n",
        "                                     transforms.Normalize(mean, std)\n",
        "                                     ])\n",
        "test_data = datasets.ImageFolder(test_dir, transform=test_transform)\n",
        "\n",
        "# print out some data stats\n",
        "print('Num training images: ', len(train_data))\n",
        "print('Num test images: ', len(test_data))"
      ],
      "execution_count": null,
      "outputs": []
    },
    {
      "cell_type": "code",
      "metadata": {
        "id": "psNnSPXBDARu"
      },
      "source": [
        "#\n",
        "classes = train_data.classes\n",
        "classes"
      ],
      "execution_count": null,
      "outputs": []
    },
    {
      "cell_type": "code",
      "metadata": {
        "id": "L2oNv8y_DALu"
      },
      "source": [
        "device = torch.device(\"cuda:0\" if torch.cuda.is_available() else \"cpu\")\n",
        "print(device)"
      ],
      "execution_count": null,
      "outputs": []
    },
    {
      "cell_type": "markdown",
      "metadata": {
        "id": "q2sBGxciDEMN"
      },
      "source": [
        "# DataLoaders and Data Visualization"
      ]
    },
    {
      "cell_type": "code",
      "metadata": {
        "id": "mpPZsPbMDAOM"
      },
      "source": [
        "# define dataloader parameters\n",
        "batch_size = 20\n",
        "num_workers=0\n",
        "# prepare data loaders\n",
        "train_loader = torch.utils.data.DataLoader(train_data,\n",
        "                                           batch_size=batch_size, \n",
        "                                           num_workers=num_workers,\n",
        "                                           shuffle=True)\n",
        "test_loader = torch.utils.data.DataLoader(test_data,\n",
        "                                          batch_size=batch_size, \n",
        "                                          num_workers=num_workers,\n",
        "                                          shuffle=True)"
      ],
      "execution_count": null,
      "outputs": []
    },
    {
      "cell_type": "code",
      "metadata": {
        "id": "_pnf5TJBB-w2"
      },
      "source": [
        "# Visualize some sample data\n",
        "\n",
        "# obtain one batch of training input images\n",
        "inputs, classes = next(iter(train_loader))\n",
        "inputs = inputs.numpy() # convert input images to numpy for display\n",
        "# plot the input images in the batch, along with the corresponding labels\n",
        "fig = plt.figure(figsize=(25, 4))\n",
        "for idx in np.arange(20):\n",
        "    ax = fig.add_subplot(2, 20/2, idx+1, xticks=[], yticks=[])\n",
        "    plt.imshow(np.transpose(inputs[idx], (1, 2, 0)))\n",
        "    ax.set_title(classes[labels[idx]])"
      ],
      "execution_count": null,
      "outputs": []
    },
    {
      "cell_type": "code",
      "metadata": {
        "id": "SxzyTN2YB-tm"
      },
      "source": [
        "# Get a batch of training data\n",
        "inputs, labels = next(iter(train_loader))\n",
        "# Make a grid from batch\n",
        "output = torchvision.utils.make_grid(inputs)\n",
        "imshow(output, title=[classes[x] for x in labels])"
      ],
      "execution_count": null,
      "outputs": []
    },
    {
      "cell_type": "markdown",
      "metadata": {
        "id": "2HflUknxCrz9"
      },
      "source": [
        "# Train Model"
      ]
    },
    {
      "cell_type": "code",
      "metadata": {
        "id": "7qs3JlO4B-qy"
      },
      "source": [
        "# TODO:\n"
      ],
      "execution_count": null,
      "outputs": []
    },
    {
      "cell_type": "markdown",
      "metadata": {
        "id": "GlWFSk7aB_ir"
      },
      "source": [
        "# Visualize Sample Test Results"
      ]
    },
    {
      "cell_type": "code",
      "metadata": {
        "id": "d2srO6frB-n4"
      },
      "source": [
        "# obtain one batch of test images\n",
        "# dataiter = iter(test_loader)\n",
        "inputs, labels = next(iter(test_loader))\n",
        "inputs.numpy()\n",
        "\n",
        "# move model inputs to cuda, if GPU available\n",
        "if train_on_gpu:\n",
        "    inputs = inputs.cuda()\n",
        "\n",
        "# get sample outputs\n",
        "output = model(inputs)\n",
        "# convert output probabilities to predicted class\n",
        "_, preds_tensor = torch.max(output, 1)\n",
        "preds = np.squeeze(preds_tensor.numpy()) if not train_on_gpu else np.squeeze(preds_tensor.cpu().numpy())\n",
        "\n",
        "# plot the images in the batch, along with predicted and true labels\n",
        "fig = plt.figure(figsize=(25, 4))\n",
        "for idx in np.arange(20):\n",
        "    ax = fig.add_subplot(2, 20/2, idx+1, xticks=[], yticks=[])\n",
        "    plt.imshow(np.transpose(inputs[idx], (1, 2, 0)))\n",
        "    ax.set_title(\"{} ({})\".format(classes[preds[idx]], classes[labels[idx]]),\n",
        "                 color=(\"green\" if preds[idx]==labels[idx].item() else \"red\"))"
      ],
      "execution_count": null,
      "outputs": []
    }
  ]
}