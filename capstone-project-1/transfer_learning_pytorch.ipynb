{
  "nbformat": 4,
  "nbformat_minor": 0,
  "metadata": {
    "colab": {
      "name": "transfer-learning-pytorch.ipynb",
      "provenance": [],
      "include_colab_link": true
    },
    "kernelspec": {
      "name": "python3",
      "display_name": "Python 3"
    },
    "language_info": {
      "name": "python"
    },
    "accelerator": "GPU"
  },
  "cells": [
    {
      "cell_type": "markdown",
      "metadata": {
        "id": "view-in-github",
        "colab_type": "text"
      },
      "source": [
        "<a href=\"https://colab.research.google.com/github/callezenwaka/facebook-pytorch/blob/main/capstone-project-1/transfer_learning_pytorch.ipynb\" target=\"_parent\"><img src=\"https://colab.research.google.com/assets/colab-badge.svg\" alt=\"Open In Colab\"/></a>"
      ]
    },
    {
      "cell_type": "markdown",
      "metadata": {
        "id": "WwTS2kE0zdHN"
      },
      "source": [
        "# Project setup"
      ]
    },
    {
      "cell_type": "markdown",
      "metadata": {
        "id": "mDOZ7uSIEU02"
      },
      "source": [
        "Resources:\n",
        "* https://www.youtube.com/watch?v=K0lWSB2QoIQ&list=PLqnslRFeH2UrcDBWF5mfPGpqQDSta6VK4&index=15"
      ]
    },
    {
      "cell_type": "code",
      "metadata": {
        "id": "omNP-njXp7wu"
      },
      "source": [
        "import torch\n",
        "import torch.nn as nn\n",
        "import torch.optim as optim\n",
        "from torch.optim import lr_scheduler\n",
        "import numpy as np\n",
        "import torchvision\n",
        "from torchvision import datasets, models, transforms\n",
        "import matplotlib.pyplot as plt\n",
        "import time\n",
        "import os\n",
        "import copy"
      ],
      "execution_count": 1,
      "outputs": []
    },
    {
      "cell_type": "code",
      "metadata": {
        "id": "bS4KkQe_znTz"
      },
      "source": [
        "# define mean and std\n",
        "mean = np.array([0.5, 0.5, 0.5])\n",
        "std = np.array([0.25, 0.25, 0.25])"
      ],
      "execution_count": 2,
      "outputs": []
    },
    {
      "cell_type": "code",
      "metadata": {
        "colab": {
          "base_uri": "https://localhost:8080/"
        },
        "id": "KoiJbznx0ZNB",
        "outputId": "e9f27f23-a108-47eb-ec79-0e9585661551"
      },
      "source": [
        "# download dataset\n",
        "!wget https://github.com/callezenwaka/facebook-pytorch/blob/main/capstone-project-1/data.zip?raw=true && unzip -qq data.zip?raw=true\n",
        "!rm -rf data.zip?raw=true"
      ],
      "execution_count": 3,
      "outputs": [
        {
          "output_type": "stream",
          "name": "stdout",
          "text": [
            "--2021-10-19 05:21:08--  https://github.com/callezenwaka/facebook-pytorch/blob/main/capstone-project-1/data.zip?raw=true\n",
            "Resolving github.com (github.com)... 140.82.112.4\n",
            "Connecting to github.com (github.com)|140.82.112.4|:443... connected.\n",
            "HTTP request sent, awaiting response... 302 Found\n",
            "Location: https://github.com/callezenwaka/facebook-pytorch/raw/main/capstone-project-1/data.zip [following]\n",
            "--2021-10-19 05:21:09--  https://github.com/callezenwaka/facebook-pytorch/raw/main/capstone-project-1/data.zip\n",
            "Reusing existing connection to github.com:443.\n",
            "HTTP request sent, awaiting response... 302 Found\n",
            "Location: https://raw.githubusercontent.com/callezenwaka/facebook-pytorch/main/capstone-project-1/data.zip [following]\n",
            "--2021-10-19 05:21:09--  https://raw.githubusercontent.com/callezenwaka/facebook-pytorch/main/capstone-project-1/data.zip\n",
            "Resolving raw.githubusercontent.com (raw.githubusercontent.com)... 185.199.108.133, 185.199.109.133, 185.199.110.133, ...\n",
            "Connecting to raw.githubusercontent.com (raw.githubusercontent.com)|185.199.108.133|:443... connected.\n",
            "HTTP request sent, awaiting response... 200 OK\n",
            "Length: 47259066 (45M) [application/zip]\n",
            "Saving to: ‘data.zip?raw=true’\n",
            "\n",
            "data.zip?raw=true   100%[===================>]  45.07M   151MB/s    in 0.3s    \n",
            "\n",
            "2021-10-19 05:21:09 (151 MB/s) - ‘data.zip?raw=true’ saved [47259066/47259066]\n",
            "\n",
            "replace data/train/ants/0013035.jpg? [y]es, [n]o, [A]ll, [N]one, [r]ename: A\n"
          ]
        }
      ]
    },
    {
      "cell_type": "markdown",
      "metadata": {
        "id": "zDNTvp2Azoy3"
      },
      "source": [
        "# Data Transformations"
      ]
    },
    {
      "cell_type": "code",
      "metadata": {
        "id": "-0rUVVNH-ZwO"
      },
      "source": [
        "data_transforms = {\n",
        "    'train': transforms.Compose([\n",
        "        transforms.RandomResizedCrop(224),\n",
        "        transforms.RandomHorizontalFlip(),\n",
        "        transforms.ToTensor(),\n",
        "        transforms.Normalize(mean, std)\n",
        "    ]),\n",
        "    'val': transforms.Compose([\n",
        "        transforms.Resize(256),\n",
        "        transforms.CenterCrop(224),\n",
        "        transforms.ToTensor(),\n",
        "        transforms.Normalize(mean, std)\n",
        "    ]),\n",
        "}"
      ],
      "execution_count": 4,
      "outputs": []
    },
    {
      "cell_type": "markdown",
      "metadata": {
        "id": "Z73aBX8C2Bhy"
      },
      "source": [
        "# DataLoaders and Data Visualization"
      ]
    },
    {
      "cell_type": "code",
      "metadata": {
        "colab": {
          "base_uri": "https://localhost:8080/"
        },
        "id": "eQsiUck4_Ieh",
        "outputId": "936680a4-401a-427c-b5e8-8af5fe49898b"
      },
      "source": [
        "data_dir = 'data/'\n",
        "image_datasets = {x: datasets.ImageFolder(os.path.join(data_dir, x),\n",
        "                                          data_transforms[x])\n",
        "                  for x in ['train', 'val']}\n",
        "dataloaders = {x: torch.utils.data.DataLoader(image_datasets[x], batch_size=4,\n",
        "                                             shuffle=True, num_workers=0)\n",
        "              for x in ['train', 'val']}\n",
        "\n",
        "dataset_sizes = {x: len(image_datasets[x]) for x in ['train', 'val']}\n",
        "class_names = image_datasets['train'].classes\n",
        "print(class_names)"
      ],
      "execution_count": 5,
      "outputs": [
        {
          "output_type": "stream",
          "name": "stdout",
          "text": [
            "['ants', 'bees']\n"
          ]
        }
      ]
    },
    {
      "cell_type": "code",
      "metadata": {
        "colab": {
          "base_uri": "https://localhost:8080/"
        },
        "id": "eMY1HxdC4qWC",
        "outputId": "2a3c2085-c818-4400-c725-01018330e3ad"
      },
      "source": [
        "device = torch.device(\"cuda:0\" if torch.cuda.is_available() else \"cpu\")\n",
        "print(device)"
      ],
      "execution_count": 6,
      "outputs": [
        {
          "output_type": "stream",
          "name": "stdout",
          "text": [
            "cuda:0\n"
          ]
        }
      ]
    },
    {
      "cell_type": "code",
      "metadata": {
        "id": "emZ9cI5e40wB"
      },
      "source": [
        "#\n",
        "def imshow(inp, title):\n",
        "    \"\"\"Imshow for Tensor.\"\"\"\n",
        "    inp = inp.numpy().transpose((1, 2, 0))\n",
        "    inp = std * inp + mean\n",
        "    inp = np.clip(inp, 0, 1)\n",
        "    plt.imshow(inp)\n",
        "    plt.title(title)\n",
        "    plt.show()"
      ],
      "execution_count": 7,
      "outputs": []
    },
    {
      "cell_type": "code",
      "metadata": {
        "colab": {
          "base_uri": "https://localhost:8080/",
          "height": 148
        },
        "id": "8sBf18gF_ZER",
        "outputId": "7084f437-85fc-47e2-a940-f505ebef85d6"
      },
      "source": [
        "# Get a batch of training data\n",
        "inputs, classes = next(iter(dataloaders['train']))\n",
        "\n",
        "# Make a grid from batch\n",
        "output = torchvision.utils.make_grid(inputs)\n",
        "\n",
        "imshow(output, title=[class_names[x] for x in classes])"
      ],
      "execution_count": 8,
      "outputs": [
        {
          "output_type": "display_data",
          "data": {
            "image/png": "[encoded data removed]",
            "text/plain": [
              "<Figure size 432x288 with 1 Axes>"
            ]
          },
          "metadata": {
            "needs_background": "light"
          }
        }
      ]
    },
    {
      "cell_type": "markdown",
      "metadata": {
        "id": "tCgmn_eQ6h_A"
      },
      "source": [
        "# Trainng Model"
      ]
    },
    {
      "cell_type": "code",
      "metadata": {
        "id": "POuP9lKT6c-D"
      },
      "source": [
        "# train model\n",
        "def train_model(model, criterion, optimizer, scheduler, num_epochs=25):\n",
        "    since = time.time()\n",
        "\n",
        "    best_model_wts = copy.deepcopy(model.state_dict())\n",
        "    best_acc = 0.0\n",
        "\n",
        "    for epoch in range(num_epochs):\n",
        "        print('Epoch {}/{}'.format(epoch, num_epochs - 1))\n",
        "        print('-' * 10)\n",
        "\n",
        "        # Each epoch has a training and validation phase\n",
        "        for phase in ['train', 'val']:\n",
        "            if phase == 'train':\n",
        "                model.train()  # Set model to training mode\n",
        "            else:\n",
        "                model.eval()   # Set model to evaluate mode\n",
        "\n",
        "            running_loss = 0.0\n",
        "            running_corrects = 0\n",
        "\n",
        "            # Iterate over data.\n",
        "            for inputs, labels in dataloaders[phase]:\n",
        "                inputs = inputs.to(device)\n",
        "                labels = labels.to(device)\n",
        "\n",
        "                # forward\n",
        "                # track history if only in train\n",
        "                with torch.set_grad_enabled(phase == 'train'):\n",
        "                    outputs = model(inputs)\n",
        "                    _, preds = torch.max(outputs, 1)\n",
        "                    loss = criterion(outputs, labels)\n",
        "\n",
        "                    # backward + optimize only if in training phase\n",
        "                    if phase == 'train':\n",
        "                        optimizer.zero_grad()\n",
        "                        loss.backward()\n",
        "                        optimizer.step()\n",
        "\n",
        "                # statistics\n",
        "                running_loss += loss.item() * inputs.size(0)\n",
        "                running_corrects += torch.sum(preds == labels.data)\n",
        "\n",
        "            if phase == 'train':\n",
        "                scheduler.step()\n",
        "\n",
        "            epoch_loss = running_loss / dataset_sizes[phase]\n",
        "            epoch_acc = running_corrects.double() / dataset_sizes[phase]\n",
        "\n",
        "            print('{} Loss: {:.4f} Acc: {:.4f}'.format(\n",
        "                phase, epoch_loss, epoch_acc))\n",
        "\n",
        "            # deep copy the model\n",
        "            if phase == 'val' and epoch_acc > best_acc:\n",
        "                best_acc = epoch_acc\n",
        "                best_model_wts = copy.deepcopy(model.state_dict())\n",
        "\n",
        "        print()\n",
        "\n",
        "    time_elapsed = time.time() - since\n",
        "    print('Training complete in {:.0f}m {:.0f}s'.format(\n",
        "        time_elapsed // 60, time_elapsed % 60))\n",
        "    print('Best val Acc: {:4f}'.format(best_acc))\n",
        "\n",
        "    # load best model weights\n",
        "    model.load_state_dict(best_model_wts)\n",
        "    return model"
      ],
      "execution_count": 9,
      "outputs": []
    },
    {
      "cell_type": "markdown",
      "metadata": {
        "id": "aMcFMNAB6s0L"
      },
      "source": [
        "# Load Pretrained Model"
      ]
    },
    {
      "cell_type": "code",
      "metadata": {
        "id": "hUzMtyP0CKx2"
      },
      "source": [
        "##################### version one ############################\n",
        "# uncomment to run\n",
        "# Load a pretrained model and reset final fully connected layer.\n",
        "\n",
        "# model = models.resnet18(pretrained=True)\n",
        "# num_ftrs = model.fc.in_features\n",
        "# # Here the size of each output sample is set to 2.\n",
        "# # Alternatively, it can be generalized to nn.Linear(num_ftrs, len(class_names)).\n",
        "# model.fc = nn.Linear(num_ftrs, 2)\n",
        "\n",
        "# model = model.to(device)\n",
        "\n",
        "# criterion = nn.CrossEntropyLoss()\n",
        "# # Observe that all parameters are being optimized\n",
        "# optimizer = optim.SGD(model.parameters(), lr=0.001)\n",
        "# step_lr_scheduler = lr_scheduler.StepLR(optimizer, step_size=7, gamma=0.1)\n",
        "# model = train_model(model, criterion, optimizer, step_lr_scheduler, num_epochs=25)"
      ],
      "execution_count": null,
      "outputs": []
    },
    {
      "cell_type": "code",
      "metadata": {
        "colab": {
          "base_uri": "https://localhost:8080/"
        },
        "id": "Ihtvg8FO7bb9",
        "outputId": "083db160-f8ac-45f2-b1f2-2d287fd061ba"
      },
      "source": [
        "##################### version two ############################\n",
        "model = torchvision.models.resnet18(pretrained=True)\n",
        "for param in model.parameters():\n",
        "    param.requires_grad = False\n",
        "\n",
        "# Parameters of newly constructed modules have requires_grad=True by default\n",
        "num_ftrs = model.fc.in_features\n",
        "model.fc = nn.Linear(num_ftrs, 2)\n",
        "\n",
        "model = model.to(device)\n",
        "\n",
        "# Observe that only parameters of final layer are being optimized as\n",
        "# opposed to before.\n",
        "optimizer_conv = optim.SGD(model.fc.parameters(), lr=0.001, momentum=0.9)\n",
        "criterion = nn.CrossEntropyLoss()\n",
        "# Decay LR by a factor of 0.1 every 7 epochs\n",
        "exp_lr_scheduler = lr_scheduler.StepLR(optimizer_conv, step_size=7, gamma=0.1)\n",
        "model = train_model(model, criterion, optimizer_conv, exp_lr_scheduler, num_epochs=25)"
      ],
      "execution_count": 10,
      "outputs": [
        {
          "output_type": "stream",
          "name": "stdout",
          "text": [
            "Epoch 0/24\n",
            "----------\n"
          ]
        },
        {
          "output_type": "stream",
          "name": "stderr",
          "text": [
            "/usr/local/lib/python3.7/dist-packages/torch/nn/functional.py:718: UserWarning: Named tensors and all their associated APIs are an experimental feature and subject to change. Please do not use them for anything important until they are released as stable. (Triggered internally at  /pytorch/c10/core/TensorImpl.h:1156.)\n",
            "  return torch.max_pool2d(input, kernel_size, stride, padding, dilation, ceil_mode)\n"
          ]
        },
        {
          "output_type": "stream",
          "name": "stdout",
          "text": [
            "train Loss: 0.6741 Acc: 0.5861\n",
            "val Loss: 0.2027 Acc: 0.9281\n",
            "\n",
            "Epoch 1/24\n",
            "----------\n",
            "train Loss: 0.5057 Acc: 0.7951\n",
            "val Loss: 0.2423 Acc: 0.9216\n",
            "\n",
            "Epoch 2/24\n",
            "----------\n",
            "train Loss: 0.4566 Acc: 0.8197\n",
            "val Loss: 0.7603 Acc: 0.7255\n",
            "\n",
            "Epoch 3/24\n",
            "----------\n",
            "train Loss: 0.4632 Acc: 0.7992\n",
            "val Loss: 0.2283 Acc: 0.9020\n",
            "\n",
            "Epoch 4/24\n",
            "----------\n",
            "train Loss: 0.5559 Acc: 0.7746\n",
            "val Loss: 0.1982 Acc: 0.9346\n",
            "\n",
            "Epoch 5/24\n",
            "----------\n",
            "train Loss: 0.6046 Acc: 0.7541\n",
            "val Loss: 0.1861 Acc: 0.9542\n",
            "\n",
            "Epoch 6/24\n",
            "----------\n",
            "train Loss: 0.4790 Acc: 0.7951\n",
            "val Loss: 0.1590 Acc: 0.9542\n",
            "\n",
            "Epoch 7/24\n",
            "----------\n",
            "train Loss: 0.3645 Acc: 0.8484\n",
            "val Loss: 0.2184 Acc: 0.9085\n",
            "\n",
            "Epoch 8/24\n",
            "----------\n",
            "train Loss: 0.3419 Acc: 0.8607\n",
            "val Loss: 0.1797 Acc: 0.9346\n",
            "\n",
            "Epoch 9/24\n",
            "----------\n",
            "train Loss: 0.2677 Acc: 0.8975\n",
            "val Loss: 0.1578 Acc: 0.9542\n",
            "\n",
            "Epoch 10/24\n",
            "----------\n",
            "train Loss: 0.3481 Acc: 0.8197\n",
            "val Loss: 0.1855 Acc: 0.9281\n",
            "\n",
            "Epoch 11/24\n",
            "----------\n",
            "train Loss: 0.4070 Acc: 0.8197\n",
            "val Loss: 0.1876 Acc: 0.9281\n",
            "\n",
            "Epoch 12/24\n",
            "----------\n",
            "train Loss: 0.3381 Acc: 0.8156\n",
            "val Loss: 0.1579 Acc: 0.9608\n",
            "\n",
            "Epoch 13/24\n",
            "----------\n",
            "train Loss: 0.2653 Acc: 0.8811\n",
            "val Loss: 0.1737 Acc: 0.9477\n",
            "\n",
            "Epoch 14/24\n",
            "----------\n",
            "train Loss: 0.3197 Acc: 0.8730\n",
            "val Loss: 0.1666 Acc: 0.9542\n",
            "\n",
            "Epoch 15/24\n",
            "----------\n",
            "train Loss: 0.3408 Acc: 0.8443\n",
            "val Loss: 0.1528 Acc: 0.9608\n",
            "\n",
            "Epoch 16/24\n",
            "----------\n",
            "train Loss: 0.4179 Acc: 0.7828\n",
            "val Loss: 0.1669 Acc: 0.9477\n",
            "\n",
            "Epoch 17/24\n",
            "----------\n",
            "train Loss: 0.3374 Acc: 0.8484\n",
            "val Loss: 0.1611 Acc: 0.9542\n",
            "\n",
            "Epoch 18/24\n",
            "----------\n",
            "train Loss: 0.3524 Acc: 0.8443\n",
            "val Loss: 0.2021 Acc: 0.9216\n",
            "\n",
            "Epoch 19/24\n",
            "----------\n",
            "train Loss: 0.3856 Acc: 0.8361\n",
            "val Loss: 0.1637 Acc: 0.9477\n",
            "\n",
            "Epoch 20/24\n",
            "----------\n",
            "train Loss: 0.3238 Acc: 0.8525\n",
            "val Loss: 0.1574 Acc: 0.9542\n",
            "\n",
            "Epoch 21/24\n",
            "----------\n",
            "train Loss: 0.2975 Acc: 0.8770\n",
            "val Loss: 0.1600 Acc: 0.9542\n",
            "\n",
            "Epoch 22/24\n",
            "----------\n",
            "train Loss: 0.3031 Acc: 0.8484\n",
            "val Loss: 0.1926 Acc: 0.9150\n",
            "\n",
            "Epoch 23/24\n",
            "----------\n",
            "train Loss: 0.2810 Acc: 0.8730\n",
            "val Loss: 0.1697 Acc: 0.9542\n",
            "\n",
            "Epoch 24/24\n",
            "----------\n",
            "train Loss: 0.3189 Acc: 0.8689\n",
            "val Loss: 0.1636 Acc: 0.9477\n",
            "\n",
            "Training complete in 2m 35s\n",
            "Best val Acc: 0.960784\n"
          ]
        }
      ]
    },
    {
      "cell_type": "markdown",
      "metadata": {
        "id": "wIgp-aQL73nv"
      },
      "source": [
        "# Visualize Sample Test Results"
      ]
    },
    {
      "cell_type": "code",
      "metadata": {
        "id": "mIHJunZb6192"
      },
      "source": [
        ""
      ],
      "execution_count": null,
      "outputs": []
    }
  ]
}